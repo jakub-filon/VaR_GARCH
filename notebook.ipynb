{
 "cells": [
  {
   "cell_type": "code",
   "execution_count": 5,
   "id": "50cbf18d",
   "metadata": {},
   "outputs": [],
   "source": [
    "import pandas as pd\n",
    "import numpy as np\n",
    "import matplotlib.pyplot as plt\n",
    "from arch import arch_model\n",
    "import statsmodels.api as sm\n",
    "import yfinance as yf\n",
    "from datetime import datetime"
   ]
  },
  {
   "cell_type": "code",
   "execution_count": 11,
   "metadata": {},
   "outputs": [
    {
     "name": "stderr",
     "output_type": "stream",
     "text": [
      "[*********************100%***********************]  1 of 1 completed\n",
      "[*********************100%***********************]  1 of 1 completed\n",
      "[*********************100%***********************]  1 of 1 completed\n",
      "[*********************100%***********************]  1 of 1 completed\n",
      "[*********************100%***********************]  1 of 1 completed\n"
     ]
    }
   ],
   "source": [
    "# define the date range\n",
    "start = datetime(2020, 5, 1)\n",
    "end = datetime(2025, 5, 1)\n",
    "\n",
    "# Fetch data\n",
    "df_ndx = yf.download('^NDX', start=start, end=end)\n",
    "df_tka = yf.download('TKA.DE', start=start, end=end)\n",
    "df_usdpln = yf.download('PLN=X', start=start, end=end)\n",
    "df_brent = yf.download('BZ=F', start=start, end=end)\n",
    "df_eth = yf.download('ETH-USD', start=start, end=end)"
   ]
  },
  {
   "cell_type": "code",
   "execution_count": 12,
   "metadata": {},
   "outputs": [],
   "source": [
    "dataframes = [df_ndx, df_tka, df_usdpln, df_brent, df_eth]\n",
    "tickers = ['NDX', 'TKA', 'USDPLN', 'Brent', 'ETH']\n",
    "\n",
    "for df in dataframes:\n",
    "    df.columns = df.columns.droplevel(1)"
   ]
  },
  {
   "cell_type": "code",
   "execution_count": 14,
   "metadata": {},
   "outputs": [
    {
     "name": "stdout",
     "output_type": "stream",
     "text": [
      "NaN values in NDX: 0\n",
      "NaN values in TKA: 0\n",
      "NaN values in USDPLN: 0\n",
      "NaN values in Brent: 0\n",
      "NaN values in ETH: 0\n"
     ]
    }
   ],
   "source": [
    "# Check NaN values\n",
    "for name, df in zip(tickers, dataframes):\n",
    "    print(f\"NaN values in {name}: {df.isna().sum().sum()}\")"
   ]
  },
  {
   "cell_type": "code",
   "execution_count": 15,
   "id": "5f6e1f12",
   "metadata": {},
   "outputs": [],
   "source": [
    "# Extract 'Close' for each asset and rename the column\n",
    "data = pd.DataFrame({\n",
    "    'Thyssenkrupp': df_tka['Close'],\n",
    "    'USDPLN': df_usdpln['Close'],\n",
    "    'BrentOil': df_brent['Close'],\n",
    "    'Ethereum': df_eth['Close'],\n",
    "    'NASDAQ': df_ndx['Close']\n",
    "})\n"
   ]
  },
  {
   "cell_type": "code",
   "execution_count": 16,
   "metadata": {},
   "outputs": [
    {
     "data": {
      "text/html": [
       "<div>\n",
       "<style scoped>\n",
       "    .dataframe tbody tr th:only-of-type {\n",
       "        vertical-align: middle;\n",
       "    }\n",
       "\n",
       "    .dataframe tbody tr th {\n",
       "        vertical-align: top;\n",
       "    }\n",
       "\n",
       "    .dataframe thead th {\n",
       "        text-align: right;\n",
       "    }\n",
       "</style>\n",
       "<table border=\"1\" class=\"dataframe\">\n",
       "  <thead>\n",
       "    <tr style=\"text-align: right;\">\n",
       "      <th></th>\n",
       "      <th>Thyssenkrupp</th>\n",
       "      <th>USDPLN</th>\n",
       "      <th>BrentOil</th>\n",
       "      <th>Ethereum</th>\n",
       "      <th>NASDAQ</th>\n",
       "    </tr>\n",
       "    <tr>\n",
       "      <th>Date</th>\n",
       "      <th></th>\n",
       "      <th></th>\n",
       "      <th></th>\n",
       "      <th></th>\n",
       "      <th></th>\n",
       "    </tr>\n",
       "  </thead>\n",
       "  <tbody>\n",
       "    <tr>\n",
       "      <th>2020-05-01</th>\n",
       "      <td>NaN</td>\n",
       "      <td>4.150900</td>\n",
       "      <td>26.440001</td>\n",
       "      <td>214.219101</td>\n",
       "      <td>8718.179688</td>\n",
       "    </tr>\n",
       "    <tr>\n",
       "      <th>2020-05-02</th>\n",
       "      <td>NaN</td>\n",
       "      <td>NaN</td>\n",
       "      <td>NaN</td>\n",
       "      <td>215.325378</td>\n",
       "      <td>NaN</td>\n",
       "    </tr>\n",
       "    <tr>\n",
       "      <th>2020-05-03</th>\n",
       "      <td>NaN</td>\n",
       "      <td>NaN</td>\n",
       "      <td>NaN</td>\n",
       "      <td>210.933151</td>\n",
       "      <td>NaN</td>\n",
       "    </tr>\n",
       "    <tr>\n",
       "      <th>2020-05-04</th>\n",
       "      <td>4.81665</td>\n",
       "      <td>4.166819</td>\n",
       "      <td>27.200001</td>\n",
       "      <td>208.174011</td>\n",
       "      <td>8834.110352</td>\n",
       "    </tr>\n",
       "    <tr>\n",
       "      <th>2020-05-05</th>\n",
       "      <td>4.98306</td>\n",
       "      <td>4.168550</td>\n",
       "      <td>30.969999</td>\n",
       "      <td>206.774399</td>\n",
       "      <td>8930.620117</td>\n",
       "    </tr>\n",
       "    <tr>\n",
       "      <th>...</th>\n",
       "      <td>...</td>\n",
       "      <td>...</td>\n",
       "      <td>...</td>\n",
       "      <td>...</td>\n",
       "      <td>...</td>\n",
       "    </tr>\n",
       "    <tr>\n",
       "      <th>2025-04-26</th>\n",
       "      <td>NaN</td>\n",
       "      <td>NaN</td>\n",
       "      <td>NaN</td>\n",
       "      <td>1821.881104</td>\n",
       "      <td>NaN</td>\n",
       "    </tr>\n",
       "    <tr>\n",
       "      <th>2025-04-27</th>\n",
       "      <td>NaN</td>\n",
       "      <td>NaN</td>\n",
       "      <td>NaN</td>\n",
       "      <td>1792.864990</td>\n",
       "      <td>NaN</td>\n",
       "    </tr>\n",
       "    <tr>\n",
       "      <th>2025-04-28</th>\n",
       "      <td>10.05000</td>\n",
       "      <td>3.761274</td>\n",
       "      <td>65.860001</td>\n",
       "      <td>1798.851807</td>\n",
       "      <td>19427.289062</td>\n",
       "    </tr>\n",
       "    <tr>\n",
       "      <th>2025-04-29</th>\n",
       "      <td>9.83200</td>\n",
       "      <td>3.739923</td>\n",
       "      <td>64.250000</td>\n",
       "      <td>1799.175659</td>\n",
       "      <td>19544.949219</td>\n",
       "    </tr>\n",
       "    <tr>\n",
       "      <th>2025-04-30</th>\n",
       "      <td>10.02000</td>\n",
       "      <td>3.745800</td>\n",
       "      <td>63.119999</td>\n",
       "      <td>1793.775391</td>\n",
       "      <td>19571.019531</td>\n",
       "    </tr>\n",
       "  </tbody>\n",
       "</table>\n",
       "<p>1826 rows × 5 columns</p>\n",
       "</div>"
      ],
      "text/plain": [
       "            Thyssenkrupp    USDPLN   BrentOil     Ethereum        NASDAQ\n",
       "Date                                                                    \n",
       "2020-05-01           NaN  4.150900  26.440001   214.219101   8718.179688\n",
       "2020-05-02           NaN       NaN        NaN   215.325378           NaN\n",
       "2020-05-03           NaN       NaN        NaN   210.933151           NaN\n",
       "2020-05-04       4.81665  4.166819  27.200001   208.174011   8834.110352\n",
       "2020-05-05       4.98306  4.168550  30.969999   206.774399   8930.620117\n",
       "...                  ...       ...        ...          ...           ...\n",
       "2025-04-26           NaN       NaN        NaN  1821.881104           NaN\n",
       "2025-04-27           NaN       NaN        NaN  1792.864990           NaN\n",
       "2025-04-28      10.05000  3.761274  65.860001  1798.851807  19427.289062\n",
       "2025-04-29       9.83200  3.739923  64.250000  1799.175659  19544.949219\n",
       "2025-04-30      10.02000  3.745800  63.119999  1793.775391  19571.019531\n",
       "\n",
       "[1826 rows x 5 columns]"
      ]
     },
     "execution_count": 16,
     "metadata": {},
     "output_type": "execute_result"
    }
   ],
   "source": [
    "data"
   ]
  },
  {
   "cell_type": "code",
   "execution_count": null,
   "metadata": {},
   "outputs": [],
   "source": [
    "# coś trzeba z tymi NaNami zrobić, bo ETH jest tradowane w weekendy i święta, a inne nie"
   ]
  }
 ],
 "metadata": {
  "kernelspec": {
   "display_name": ".venv",
   "language": "python",
   "name": "python3"
  },
  "language_info": {
   "codemirror_mode": {
    "name": "ipython",
    "version": 3
   },
   "file_extension": ".py",
   "mimetype": "text/x-python",
   "name": "python",
   "nbconvert_exporter": "python",
   "pygments_lexer": "ipython3",
   "version": "3.12.3"
  }
 },
 "nbformat": 4,
 "nbformat_minor": 5
}
